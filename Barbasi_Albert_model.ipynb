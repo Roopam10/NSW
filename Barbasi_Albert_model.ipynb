{
  "cells": [
    {
      "cell_type": "code",
      "execution_count": 1,
      "metadata": {
        "id": "z_fS_4boT2Az"
      },
      "outputs": [],
      "source": [
        "import networkx as nx\n",
        "import random\n",
        "import matplotlib.pyplot as plt\n",
        "import numpy as np\n",
        "import pandas as pd\n",
        "#import roopam as rp"
      ]
    },
    {
      "cell_type": "markdown",
      "source": [
        "#Display Function"
      ],
      "metadata": {
        "id": "w3-Qt41CUtjg"
      }
    },
    {
      "cell_type": "code",
      "source": [
        "def display(g, i, ne):\n",
        "    position = nx.circular_layout(g)\n",
        "      \n",
        "    if i == '' and ne == '':\n",
        "        newnode = []\n",
        "        restnodes = g.nodes()\n",
        "        newedges = []\n",
        "        restedges = g.edges()\n",
        "    else:\n",
        "        newnode = [i]\n",
        "        restnodes = list(set(g.nodes()) - set(newnode))\n",
        "        newedges = ne\n",
        "        restedges = list(set(g.edges()) - set(newedges) - set([(b, a) for (a, b) in newedges]))\n",
        "    nx.draw_networkx_nodes(g, position, nodelist=newnode, node_color='g')\n",
        "    nx.draw_networkx_nodes(g, position, nodelist=restnodes, node_color='r')\n",
        "    nx.draw_networkx_edges(g, position, edgelist=newedges, style='dashdot')\n",
        "    nx.draw_networkx_edges(g, position, edgelist=restedges,)\n",
        "    plt.show()"
      ],
      "metadata": {
        "id": "8SIGy2d_UZHi"
      },
      "execution_count": 18,
      "outputs": []
    },
    {
      "cell_type": "markdown",
      "source": [
        "#Adding Nodes"
      ],
      "metadata": {
        "id": "uhiOwPZ-Uluw"
      }
    },
    {
      "cell_type": "code",
      "source": [
        "def barabasi_add_nodes(g, n, m0):\n",
        "    m = m0 - 1\n",
        "  \n",
        "    for i in range(m0 + 1, n + 1):\n",
        "        g.add_node(i)\n",
        "        degrees = nx.degree(g)\n",
        "        node_prob = {}\n",
        "  \n",
        "        s = 0\n",
        "        for j in degrees:\n",
        "            s += j[1]\n",
        "        print(g.nodes())\n",
        "          \n",
        "        for each in g.nodes():\n",
        "            node_prob[each] = (float)(degrees[each]) / s\n",
        "  \n",
        "        node_probabilities_cum = []\n",
        "        prev = 0\n",
        "          \n",
        "        for n, p in node_prob.items():\n",
        "            temp = [n, prev + p]\n",
        "            node_probabilities_cum.append(temp)\n",
        "            prev += p\n",
        "  \n",
        "        new_edges = []\n",
        "        num_edges_added = 0\n",
        "        target_nodes = []\n",
        "  \n",
        "        while (num_edges_added < m):\n",
        "            prev_cum = 0\n",
        "            r = random.random()\n",
        "            roopam= 0\n",
        "              \n",
        "            while (not (r > prev_cum and r <= node_probabilities_cum[roopam][1])):\n",
        "                prev_cum = node_probabilities_cum[roopam][1]\n",
        "                roopam = roopam + 1\n",
        "            target_node = node_probabilities_cum[roopam][0]\n",
        "              \n",
        "            if target_node in target_nodes:\n",
        "                continue\n",
        "              \n",
        "            else:\n",
        "                target_nodes.append(target_node)\n",
        "            g.add_edge(i, target_node)\n",
        "            num_edges_added += 1\n",
        "            new_edges.append((i, target_node))\n",
        "  \n",
        "        print(num_edges_added, ' edges added are')\n",
        "  \n",
        "    display(g, i, new_edges)\n",
        "    return g"
      ],
      "metadata": {
        "id": "ZFIP0ZDvUdxV"
      },
      "execution_count": 22,
      "outputs": []
    },
    {
      "cell_type": "markdown",
      "source": [
        "#Degree Distribution\n"
      ],
      "metadata": {
        "id": "8g6mErY7X2HP"
      }
    },
    {
      "cell_type": "code",
      "execution_count": 28,
      "metadata": {
        "colab": {
          "base_uri": "https://localhost:8080/",
          "height": 1000
        },
        "id": "ULHaB0ydT2A2",
        "outputId": "74957464-4e38-4c52-edf9-5c16ecc321ce"
      },
      "outputs": [
        {
          "output_type": "display_data",
          "data": {
            "text/plain": [
              "<Figure size 432x288 with 1 Axes>"
            ],
            "image/png": "[encoded data removed]"
          },
          "metadata": {}
        },
        {
          "output_type": "stream",
          "name": "stdout",
          "text": [
            "[0, 1, 3]\n",
            "1  edges added\n",
            "[0, 1, 3, 4]\n",
            "1  edges added\n",
            "[0, 1, 3, 4, 5]\n",
            "1  edges added\n",
            "[0, 1, 3, 4, 5, 6]\n",
            "1  edges added\n",
            "[0, 1, 3, 4, 5, 6, 7]\n",
            "1  edges added\n",
            "[0, 1, 3, 4, 5, 6, 7, 8]\n",
            "1  edges added\n",
            "[0, 1, 3, 4, 5, 6, 7, 8, 9]\n",
            "1  edges added\n",
            "[0, 1, 3, 4, 5, 6, 7, 8, 9, 10]\n",
            "1  edges added\n",
            "[0, 1, 3, 4, 5, 6, 7, 8, 9, 10, 11]\n",
            "1  edges added\n",
            "[0, 1, 3, 4, 5, 6, 7, 8, 9, 10, 11, 12]\n",
            "1  edges added\n",
            "[0, 1, 3, 4, 5, 6, 7, 8, 9, 10, 11, 12, 13]\n",
            "1  edges added\n",
            "[0, 1, 3, 4, 5, 6, 7, 8, 9, 10, 11, 12, 13, 14]\n",
            "1  edges added\n",
            "[0, 1, 3, 4, 5, 6, 7, 8, 9, 10, 11, 12, 13, 14, 15]\n",
            "1  edges added\n",
            "[0, 1, 3, 4, 5, 6, 7, 8, 9, 10, 11, 12, 13, 14, 15, 16]\n",
            "1  edges added\n",
            "[0, 1, 3, 4, 5, 6, 7, 8, 9, 10, 11, 12, 13, 14, 15, 16, 17]\n",
            "1  edges added\n",
            "[0, 1, 3, 4, 5, 6, 7, 8, 9, 10, 11, 12, 13, 14, 15, 16, 17, 18]\n",
            "1  edges added\n",
            "[0, 1, 3, 4, 5, 6, 7, 8, 9, 10, 11, 12, 13, 14, 15, 16, 17, 18, 19]\n",
            "1  edges added\n",
            "[0, 1, 3, 4, 5, 6, 7, 8, 9, 10, 11, 12, 13, 14, 15, 16, 17, 18, 19, 20]\n",
            "1  edges added\n"
          ]
        },
        {
          "output_type": "display_data",
          "data": {
            "text/plain": [
              "<Figure size 432x288 with 1 Axes>"
            ],
            "image/png": "[encoded data removed]"
          },
          "metadata": {}
        },
        {
          "output_type": "stream",
          "name": "stdout",
          "text": [
            "[1, 2, 3, 4, 10]\n",
            "[13, 4, 1, 1, 1]\n"
          ]
        },
        {
          "output_type": "display_data",
          "data": {
            "text/plain": [
              "<Figure size 432x288 with 1 Axes>"
            ],
            "image/png": "[encoded data removed]"
          },
          "metadata": {
            "needs_background": "light"
          }
        }
      ],
      "source": [
        "\n",
        "  \n",
        "  \n",
        "\n",
        "  \n",
        "  \n",
        "def plot_deg_dist(g):\n",
        "    all_deg = []\n",
        "      \n",
        "    for i in nx.degree(g):\n",
        "        all_deg.append(i[1])\n",
        "    unique_degrees = list(set(all_deg))\n",
        "    unique_degrees.sort()\n",
        "    count_of_degrees = []\n",
        "  \n",
        "    for i in unique_degrees:\n",
        "        c = all_deg.count(i)\n",
        "        count_of_degrees.append(c)\n",
        "  \n",
        "    print(unique_degrees)\n",
        "    print(count_of_degrees)\n",
        "  \n",
        "    plt.plot(unique_degrees, count_of_degrees, 'ro-')\n",
        "    plt.xlabel('Degree')\n",
        "    plt.ylabel('No of Nodes')\n",
        "    plt.title('degree distribution')\n",
        "    plt.show()\n",
        "  \n",
        "  \n",
        "N = 20\n",
        "m0 = random.randint(2, N / 10)\n",
        "g = nx.path_graph(m0)\n",
        "display(g, '', '')\n",
        "  \n",
        "g = barabasi_add_nodes(g, N, m0)\n",
        "plot_deg_dist(g)"
      ]
    },
    {
      "cell_type": "code",
      "execution_count": null,
      "metadata": {
        "id": "BUJnE6f2T2A9"
      },
      "outputs": [],
      "source": []
    },
    {
      "cell_type": "code",
      "execution_count": null,
      "metadata": {
        "id": "3BHTxSN6T2A-"
      },
      "outputs": [],
      "source": []
    }
  ],
  "metadata": {
    "kernelspec": {
      "display_name": "Python 3",
      "language": "python",
      "name": "python3"
    },
    "language_info": {
      "codemirror_mode": {
        "name": "ipython",
        "version": 3
      },
      "file_extension": ".py",
      "mimetype": "text/x-python",
      "name": "python",
      "nbconvert_exporter": "python",
      "pygments_lexer": "ipython3",
      "version": "3.6.12"
    },
    "colab": {
      "provenance": []
    }
  },
  "nbformat": 4,
  "nbformat_minor": 0
}